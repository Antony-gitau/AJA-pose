{
 "cells": [
  {
   "cell_type": "code",
   "execution_count": 1,
   "metadata": {},
   "outputs": [],
   "source": [
    "from view_animals import convert_columns, view_images_with_bounding_boxes_and_keypoints, view_images_with_bounding_boxes, view_images_with_keypoints, view_images\n",
    "import pandas as pd"
   ]
  },
  {
   "cell_type": "code",
   "execution_count": 5,
   "metadata": {},
   "outputs": [],
   "source": [
    "# open the birds csv file\n",
    "birds = pd.read_csv('annotations_csvs/birds.csv')\n",
    "birds = convert_columns(birds)"
   ]
  },
  {
   "cell_type": "code",
   "execution_count": 3,
   "metadata": {},
   "outputs": [
    {
     "data": {
      "text/plain": [
       "Bird                                                                     6665\n",
       "Chicken / Curassow / Turkey                                                59\n",
       "Water bird / Duck / Swan / Goose                                           49\n",
       "Frog / Toad                                                                 7\n",
       "Deer / Antelope / Caribou / Moose                                           5\n",
       "Hyena                                                                       4\n",
       "Lizard / Gecko / Draco / Iguana / Chamelon                                  4\n",
       "Kangaroo / Wallaby                                                          4\n",
       "Cat / Lion / Tiger / Cheetah / Leopard / Cheetah / Cougar / Civet cat       3\n",
       "Fish                                                                        3\n",
       "Mudskipper                                                                  2\n",
       "Dog / Wolf / Fox / Coyote / Jackal                                          2\n",
       "Otter                                                                       2\n",
       "Tortoise / Turtle                                                           2\n",
       "Alpaca / Camel                                                              1\n",
       "Rodent / Rat / Mouse / Hamster / Guinea pig / Pika                          1\n",
       "Cow / Buffalo / Bison                                                       1\n",
       "Horse                                                                       1\n",
       "Elephant                                                                    1\n",
       "Racoon                                                                      1\n",
       "Zebra                                                                       1\n",
       "Squirrel                                                                    1\n",
       "Name: animal_subclass, dtype: int64"
      ]
     },
     "execution_count": 3,
     "metadata": {},
     "output_type": "execute_result"
    }
   ],
   "source": [
    "birds.animal_subclass.value_counts()"
   ]
  },
  {
   "cell_type": "code",
   "execution_count": 4,
   "metadata": {},
   "outputs": [],
   "source": [
    "view_images(birds, 'Hyena')"
   ]
  },
  {
   "cell_type": "code",
   "execution_count": 6,
   "metadata": {},
   "outputs": [],
   "source": [
    "view_images_with_bounding_boxes(birds, 'Hyena')"
   ]
  },
  {
   "cell_type": "code",
   "execution_count": 6,
   "metadata": {},
   "outputs": [],
   "source": [
    "view_images_with_keypoints(birds, 'Hyena')"
   ]
  },
  {
   "cell_type": "code",
   "execution_count": 7,
   "metadata": {},
   "outputs": [],
   "source": [
    "view_images_with_bounding_boxes_and_keypoints(birds, 'Hyena')"
   ]
  }
 ],
 "metadata": {
  "kernelspec": {
   "display_name": "Python 3",
   "language": "python",
   "name": "python3"
  },
  "language_info": {
   "codemirror_mode": {
    "name": "ipython",
    "version": 3
   },
   "file_extension": ".py",
   "mimetype": "text/x-python",
   "name": "python",
   "nbconvert_exporter": "python",
   "pygments_lexer": "ipython3",
   "version": "3.10.11"
  }
 },
 "nbformat": 4,
 "nbformat_minor": 2
}
